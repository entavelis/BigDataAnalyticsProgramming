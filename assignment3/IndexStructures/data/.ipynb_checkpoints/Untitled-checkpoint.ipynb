{
 "cells": [
  {
   "cell_type": "code",
   "execution_count": 1,
   "metadata": {},
   "outputs": [],
   "source": [
    "import pandas as pd"
   ]
  },
  {
   "cell_type": "code",
   "execution_count": 9,
   "metadata": {},
   "outputs": [],
   "source": [
    "data = pd.read_csv(\"beer.data\", header = None, sep=\";\")"
   ]
  },
  {
   "cell_type": "code",
   "execution_count": 16,
   "metadata": {},
   "outputs": [
    {
     "data": {
      "text/plain": [
       "0    46\n",
       "1    46\n",
       "2    46\n",
       "3    46\n",
       "dtype: int64"
      ]
     },
     "execution_count": 16,
     "metadata": {},
     "output_type": "execute_result"
    }
   ],
   "source": [
    "# Query 4\n",
    "data[data[1] > 10].count()"
   ]
  },
  {
   "cell_type": "code",
   "execution_count": 21,
   "metadata": {},
   "outputs": [
    {
     "name": "stderr",
     "output_type": "stream",
     "text": [
      "/usr/local/lib/python2.7/dist-packages/ipykernel_launcher.py:2: UserWarning: Boolean Series key will be reindexed to match DataFrame index.\n",
      "  \n"
     ]
    },
    {
     "data": {
      "text/plain": [
       "1.37"
      ]
     },
     "execution_count": 21,
     "metadata": {},
     "output_type": "execute_result"
    }
   ],
   "source": [
    "# Query 5\n",
    "data[data[2] == \"Pils\"][data[3]==25][1].mean()"
   ]
  },
  {
   "cell_type": "code",
   "execution_count": 29,
   "metadata": {},
   "outputs": [
    {
     "name": "stderr",
     "output_type": "stream",
     "text": [
      "/usr/local/lib/python2.7/dist-packages/ipykernel_launcher.py:2: UserWarning: Boolean Series key will be reindexed to match DataFrame index.\n",
      "  \n"
     ]
    },
    {
     "data": {
      "text/html": [
       "<div>\n",
       "<style scoped>\n",
       "    .dataframe tbody tr th:only-of-type {\n",
       "        vertical-align: middle;\n",
       "    }\n",
       "\n",
       "    .dataframe tbody tr th {\n",
       "        vertical-align: top;\n",
       "    }\n",
       "\n",
       "    .dataframe thead th {\n",
       "        text-align: right;\n",
       "    }\n",
       "</style>\n",
       "<table border=\"1\" class=\"dataframe\">\n",
       "  <thead>\n",
       "    <tr style=\"text-align: right;\">\n",
       "      <th></th>\n",
       "      <th>0</th>\n",
       "      <th>1</th>\n",
       "      <th>2</th>\n",
       "      <th>3</th>\n",
       "    </tr>\n",
       "  </thead>\n",
       "  <tbody>\n",
       "    <tr>\n",
       "      <th>7</th>\n",
       "      <td>Abbaye de St, Martin Blond</td>\n",
       "      <td>2.79</td>\n",
       "      <td>Abbey beers</td>\n",
       "      <td>33.0</td>\n",
       "    </tr>\n",
       "    <tr>\n",
       "      <th>9</th>\n",
       "      <td>Abbaye de St, Martin Brown</td>\n",
       "      <td>2.99</td>\n",
       "      <td>Abbey beers</td>\n",
       "      <td>33.0</td>\n",
       "    </tr>\n",
       "    <tr>\n",
       "      <th>14</th>\n",
       "      <td>Abbaye des Rocs Blond</td>\n",
       "      <td>2.79</td>\n",
       "      <td>Abbey beers</td>\n",
       "      <td>33.0</td>\n",
       "    </tr>\n",
       "    <tr>\n",
       "      <th>15</th>\n",
       "      <td>Abbaye des Rocs Brune</td>\n",
       "      <td>2.89</td>\n",
       "      <td>Abbey beers</td>\n",
       "      <td>33.0</td>\n",
       "    </tr>\n",
       "    <tr>\n",
       "      <th>19</th>\n",
       "      <td>Adelardus Double</td>\n",
       "      <td>2.39</td>\n",
       "      <td>Abbey beers</td>\n",
       "      <td>33.0</td>\n",
       "    </tr>\n",
       "    <tr>\n",
       "      <th>20</th>\n",
       "      <td>Adelardus Tripel</td>\n",
       "      <td>2.79</td>\n",
       "      <td>Abbey beers</td>\n",
       "      <td>33.0</td>\n",
       "    </tr>\n",
       "    <tr>\n",
       "      <th>23</th>\n",
       "      <td>Affligem Blond</td>\n",
       "      <td>2.39</td>\n",
       "      <td>Abbey beers</td>\n",
       "      <td>33.0</td>\n",
       "    </tr>\n",
       "    <tr>\n",
       "      <th>24</th>\n",
       "      <td>Affligem Double</td>\n",
       "      <td>2.39</td>\n",
       "      <td>Abbey beers</td>\n",
       "      <td>33.0</td>\n",
       "    </tr>\n",
       "    <tr>\n",
       "      <th>58</th>\n",
       "      <td>Averbode</td>\n",
       "      <td>2.79</td>\n",
       "      <td>Abbey beers</td>\n",
       "      <td>33.0</td>\n",
       "    </tr>\n",
       "    <tr>\n",
       "      <th>146</th>\n",
       "      <td>Bornem Double</td>\n",
       "      <td>1.99</td>\n",
       "      <td>Abbey beers</td>\n",
       "      <td>33.0</td>\n",
       "    </tr>\n",
       "    <tr>\n",
       "      <th>148</th>\n",
       "      <td>Bornem Tripel</td>\n",
       "      <td>2.49</td>\n",
       "      <td>Abbey beers</td>\n",
       "      <td>33.0</td>\n",
       "    </tr>\n",
       "    <tr>\n",
       "      <th>284</th>\n",
       "      <td>Maredsous Blonde</td>\n",
       "      <td>2.19</td>\n",
       "      <td>Abbey beers</td>\n",
       "      <td>33.0</td>\n",
       "    </tr>\n",
       "    <tr>\n",
       "      <th>286</th>\n",
       "      <td>Maredsous Brune</td>\n",
       "      <td>2.49</td>\n",
       "      <td>Abbey beers</td>\n",
       "      <td>33.0</td>\n",
       "    </tr>\n",
       "    <tr>\n",
       "      <th>288</th>\n",
       "      <td>Maredsous Triple</td>\n",
       "      <td>2.99</td>\n",
       "      <td>Abbey beers</td>\n",
       "      <td>33.0</td>\n",
       "    </tr>\n",
       "  </tbody>\n",
       "</table>\n",
       "</div>"
      ],
      "text/plain": [
       "                              0     1            2     3\n",
       "7    Abbaye de St, Martin Blond  2.79  Abbey beers  33.0\n",
       "9    Abbaye de St, Martin Brown  2.99  Abbey beers  33.0\n",
       "14        Abbaye des Rocs Blond  2.79  Abbey beers  33.0\n",
       "15        Abbaye des Rocs Brune  2.89  Abbey beers  33.0\n",
       "19             Adelardus Double  2.39  Abbey beers  33.0\n",
       "20             Adelardus Tripel  2.79  Abbey beers  33.0\n",
       "23               Affligem Blond  2.39  Abbey beers  33.0\n",
       "24              Affligem Double  2.39  Abbey beers  33.0\n",
       "58                     Averbode  2.79  Abbey beers  33.0\n",
       "146               Bornem Double  1.99  Abbey beers  33.0\n",
       "148               Bornem Tripel  2.49  Abbey beers  33.0\n",
       "284            Maredsous Blonde  2.19  Abbey beers  33.0\n",
       "286             Maredsous Brune  2.49  Abbey beers  33.0\n",
       "288            Maredsous Triple  2.99  Abbey beers  33.0"
      ]
     },
     "execution_count": 29,
     "metadata": {},
     "output_type": "execute_result"
    }
   ],
   "source": [
    "# Query 6\n",
    "data[data[2]==\"Abbey beers\"][data[1] < 10]"
   ]
  },
  {
   "cell_type": "code",
   "execution_count": null,
   "metadata": {},
   "outputs": [],
   "source": []
  }
 ],
 "metadata": {
  "kernelspec": {
   "display_name": "Python 2",
   "language": "python",
   "name": "python2"
  },
  "language_info": {
   "codemirror_mode": {
    "name": "ipython",
    "version": 2
   },
   "file_extension": ".py",
   "mimetype": "text/x-python",
   "name": "python",
   "nbconvert_exporter": "python",
   "pygments_lexer": "ipython2",
   "version": "2.7.12"
  }
 },
 "nbformat": 4,
 "nbformat_minor": 2
}
