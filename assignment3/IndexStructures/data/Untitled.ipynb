{
 "cells": [
  {
   "cell_type": "code",
   "execution_count": 1,
   "metadata": {},
   "outputs": [],
   "source": [
    "import pandas as pd"
   ]
  },
  {
   "cell_type": "code",
   "execution_count": 9,
   "metadata": {},
   "outputs": [],
   "source": [
    "data = pd.read_csv(\"beer.data\", header = None, sep=\";\")"
   ]
  },
  {
   "cell_type": "code",
   "execution_count": 75,
   "metadata": {},
   "outputs": [
    {
     "name": "stdout",
     "output_type": "stream",
     "text": [
      "191.73999999999998\n",
      "191.87\n"
     ]
    },
    {
     "data": {
      "text/plain": [
       "9.237055564881302e-13"
      ]
     },
     "execution_count": 75,
     "metadata": {},
     "output_type": "execute_result"
    }
   ],
   "source": [
    "import math\n",
    "# Query 3\n",
    "\n",
    "print(((data[(data[1] * 100).apply(lambda n: n - int(n))!=0][1]*100).apply(int)/100).sum())\n",
    "print((data[(data[1] * 100).apply(lambda n: n - int(n))!=0][1]).sum())\n",
    "\n",
    "(data[1].apply(lambda n: ((n*100))) - data[1]*100).sum()\n",
    "\n"
   ]
  },
  {
   "cell_type": "code",
   "execution_count": 16,
   "metadata": {},
   "outputs": [
    {
     "data": {
      "text/plain": [
       "0    46\n",
       "1    46\n",
       "2    46\n",
       "3    46\n",
       "dtype: int64"
      ]
     },
     "execution_count": 16,
     "metadata": {},
     "output_type": "execute_result"
    }
   ],
   "source": [
    "# Query 4\n",
    "data[data[1] > 10].count()"
   ]
  },
  {
   "cell_type": "code",
   "execution_count": 21,
   "metadata": {},
   "outputs": [
    {
     "name": "stderr",
     "output_type": "stream",
     "text": [
      "/usr/local/lib/python2.7/dist-packages/ipykernel_launcher.py:2: UserWarning: Boolean Series key will be reindexed to match DataFrame index.\n",
      "  \n"
     ]
    },
    {
     "data": {
      "text/plain": [
       "1.37"
      ]
     },
     "execution_count": 21,
     "metadata": {},
     "output_type": "execute_result"
    }
   ],
   "source": [
    "# Query 5\n",
    "data[data[2] == \"Pils\"][data[3]==25][1].mean()"
   ]
  },
  {
   "cell_type": "code",
   "execution_count": 31,
   "metadata": {},
   "outputs": [
    {
     "name": "stderr",
     "output_type": "stream",
     "text": [
      "/usr/local/lib/python2.7/dist-packages/ipykernel_launcher.py:2: UserWarning: Boolean Series key will be reindexed to match DataFrame index.\n",
      "  \n"
     ]
    },
    {
     "data": {
      "text/plain": [
       "0    23\n",
       "1    23\n",
       "2    23\n",
       "3    23\n",
       "dtype: int64"
      ]
     },
     "execution_count": 31,
     "metadata": {},
     "output_type": "execute_result"
    }
   ],
   "source": [
    "# Query 6\n",
    "data[data[2]==\"Abbey beers\"][data[1] < 10].count()"
   ]
  },
  {
   "cell_type": "code",
   "execution_count": 34,
   "metadata": {},
   "outputs": [
    {
     "data": {
      "text/html": [
       "<div>\n",
       "<style scoped>\n",
       "    .dataframe tbody tr th:only-of-type {\n",
       "        vertical-align: middle;\n",
       "    }\n",
       "\n",
       "    .dataframe tbody tr th {\n",
       "        vertical-align: top;\n",
       "    }\n",
       "\n",
       "    .dataframe thead th {\n",
       "        text-align: right;\n",
       "    }\n",
       "</style>\n",
       "<table border=\"1\" class=\"dataframe\">\n",
       "  <thead>\n",
       "    <tr style=\"text-align: right;\">\n",
       "      <th></th>\n",
       "      <th>0</th>\n",
       "      <th>1</th>\n",
       "      <th>2</th>\n",
       "      <th>3</th>\n",
       "    </tr>\n",
       "  </thead>\n",
       "  <tbody>\n",
       "    <tr>\n",
       "      <th>71</th>\n",
       "      <td>Bass Pale Ale</td>\n",
       "      <td>2.69</td>\n",
       "      <td>Pils</td>\n",
       "      <td>25.0</td>\n",
       "    </tr>\n",
       "    <tr>\n",
       "      <th>74</th>\n",
       "      <td>Bavik Premium Pils</td>\n",
       "      <td>1.09</td>\n",
       "      <td>Pils</td>\n",
       "      <td>25.0</td>\n",
       "    </tr>\n",
       "    <tr>\n",
       "      <th>78</th>\n",
       "      <td>Beersel Lager</td>\n",
       "      <td>2.99</td>\n",
       "      <td>Pils</td>\n",
       "      <td>33.0</td>\n",
       "    </tr>\n",
       "    <tr>\n",
       "      <th>110</th>\n",
       "      <td>Blauw Export Bier</td>\n",
       "      <td>1.29</td>\n",
       "      <td>Pils</td>\n",
       "      <td>33.0</td>\n",
       "    </tr>\n",
       "    <tr>\n",
       "      <th>118</th>\n",
       "      <td>Bockor Pils</td>\n",
       "      <td>1.29</td>\n",
       "      <td>Pils</td>\n",
       "      <td>25.0</td>\n",
       "    </tr>\n",
       "    <tr>\n",
       "      <th>155</th>\n",
       "      <td>Brewdog Dead Pony Pale Ale</td>\n",
       "      <td>4.29</td>\n",
       "      <td>Pils</td>\n",
       "      <td>33.0</td>\n",
       "    </tr>\n",
       "    <tr>\n",
       "      <th>267</th>\n",
       "      <td>Maes</td>\n",
       "      <td>0.99</td>\n",
       "      <td>Pils</td>\n",
       "      <td>25.0</td>\n",
       "    </tr>\n",
       "    <tr>\n",
       "      <th>268</th>\n",
       "      <td>Maes</td>\n",
       "      <td>0.99</td>\n",
       "      <td>Pils</td>\n",
       "      <td>33.0</td>\n",
       "    </tr>\n",
       "    <tr>\n",
       "      <th>269</th>\n",
       "      <td>Maes</td>\n",
       "      <td>1.99</td>\n",
       "      <td>Pils</td>\n",
       "      <td>33.0</td>\n",
       "    </tr>\n",
       "    <tr>\n",
       "      <th>290</th>\n",
       "      <td>Martens Pils</td>\n",
       "      <td>0.79</td>\n",
       "      <td>Pils</td>\n",
       "      <td>25.0</td>\n",
       "    </tr>\n",
       "    <tr>\n",
       "      <th>306</th>\n",
       "      <td>Mongozo Gluten-Free Pilsner</td>\n",
       "      <td>2.69</td>\n",
       "      <td>Pils</td>\n",
       "      <td>33.0</td>\n",
       "    </tr>\n",
       "  </tbody>\n",
       "</table>\n",
       "</div>"
      ],
      "text/plain": [
       "                               0     1     2     3\n",
       "71                 Bass Pale Ale  2.69  Pils  25.0\n",
       "74            Bavik Premium Pils  1.09  Pils  25.0\n",
       "78                 Beersel Lager  2.99  Pils  33.0\n",
       "110            Blauw Export Bier  1.29  Pils  33.0\n",
       "118                  Bockor Pils  1.29  Pils  25.0\n",
       "155   Brewdog Dead Pony Pale Ale  4.29  Pils  33.0\n",
       "267                         Maes  0.99  Pils  25.0\n",
       "268                         Maes  0.99  Pils  33.0\n",
       "269                         Maes  1.99  Pils  33.0\n",
       "290                 Martens Pils  0.79  Pils  25.0\n",
       "306  Mongozo Gluten-Free Pilsner  2.69  Pils  33.0"
      ]
     },
     "execution_count": 34,
     "metadata": {},
     "output_type": "execute_result"
    }
   ],
   "source": [
    "data[data[2] == \"Pils\"]"
   ]
  }
 ],
 "metadata": {
  "kernelspec": {
   "display_name": "Python 2",
   "language": "python",
   "name": "python2"
  },
  "language_info": {
   "codemirror_mode": {
    "name": "ipython",
    "version": 2
   },
   "file_extension": ".py",
   "mimetype": "text/x-python",
   "name": "python",
   "nbconvert_exporter": "python",
   "pygments_lexer": "ipython2",
   "version": "2.7.12"
  }
 },
 "nbformat": 4,
 "nbformat_minor": 2
}
